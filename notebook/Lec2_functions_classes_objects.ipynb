{
 "cells": [
  {
   "cell_type": "markdown",
   "metadata": {},
   "source": [
    "# Functions/Classes/Objects in Python\n",
    "author: ZeXu.Zheng\n",
    "<br>\n",
    "email: <andyzheng_123@outlook.com>"
   ]
  },
  {
   "cell_type": "markdown",
   "metadata": {},
   "source": [
    "在第0章中我们提到，许多Python使用者被戏称为调包侠。互联网上存在着大量的Python包，几乎所有我们需要实现的功能都能找到对应的包。对于初学者而言，学会如何使用和修改包，是学习编程和在工作中使用程序的重要一步。完成本节的学习后，相信大家会对Python包的概念有更深刻的理解。"
   ]
  },
  {
   "cell_type": "markdown",
   "metadata": {},
   "source": [
    "## Package"
   ]
  },
  {
   "cell_type": "markdown",
   "metadata": {},
   "source": [
    "### What is Package?"
   ]
  },
  {
   "cell_type": "markdown",
   "metadata": {},
   "source": [
    "生活中，我们常会将不同的文件放入不同的文件夹中，方便后续的管理和查找。这样的分类需要按照一定的标准进行，比如我通常会根据课程的不同，将资料分别存放在不同的文件夹中，我电脑中的一个文件结构如下所示，<br>\n",
    "2021-2022-1 <br>\n",
    "| <br>\n",
    "| <br>\n",
    "--- AdMicro <br>\n",
    "|&emsp;   | <br>\n",
    "|&emsp;   | <br>\n",
    "|&emsp;   --- syllabus <br> \n",
    "|&emsp;   --- slides <br>\n",
    "|&emsp;   --- assignments <br>\n",
    "| <br>\n",
    "--- AdMacro <br>\n",
    "|&emsp;    | <br>\n",
    "|&emsp;    | <br>\n",
    "|&emsp;    --- syllabus <br> \n",
    "|&emsp;    --- slides <br>\n",
    "|&emsp;    --- assignments <br>"
   ]
  },
  {
   "cell_type": "markdown",
   "metadata": {},
   "source": [
    "同样地，Python Package的构建也遵循相同的逻辑。一个Package（folder）中可能会根据功能需要存放着多个Module（subfolders or files,我们接下来会介绍Module的概念）。而一个Module中又会储存着一些类（class）、函数（function）以及变量（variable，这一概念我们在chap2中已经介绍过），一个package可能的结构如下，<br>\n",
    "mypckg <br>\n",
    "| <br>\n",
    "| <br>\n",
    "--- \\_\\_init\\_\\_.py <br>\n",
    "| <br>\n",
    "| <br>\n",
    "--- mod1.py <br>\n",
    "| <br>\n",
    "| <br>\n",
    "--- mod2.py <br>"
   ]
  },
  {
   "cell_type": "markdown",
   "metadata": {},
   "source": [
    "注意，此处有一个\\_\\_init\\_\\_.py文件，其作用是帮助Python解释器将这个文件夹识别为package。\n",
    "它还明确了module中可以被引入的资源，若其为空，则Module中所有的函数都可以被引入。<br>\n",
    "一个\\_\\_init\\_\\_.py文件的内容可能是，<br>\n",
    "```python\n",
    "from .mod1 import gfg \n",
    "from .mod2 import sum\n",
    "```\n",
    "此文件允许mod1中的gfg函数和mod2中的sum函数被引入。"
   ]
  },
  {
   "cell_type": "markdown",
   "metadata": {},
   "source": [
    "### How to install packages?"
   ]
  },
  {
   "cell_type": "markdown",
   "metadata": {},
   "source": [
    "一般而言，我们会使用`pip`工具对Python包进行管理，其提供了对Python包的查找、下载、安装和卸载的功能。我们可以使用win+R快捷键调出运行窗口并输入cmd打开命令行。<br>\n",
    "我们可以在命令行中使用`pip`工具。检查pip工具是否已经安装的命令如下: <br>\n",
    "```\n",
    "pip --version\n",
    "```\n",
    "获取帮助：\n",
    "```\n",
    "pip --help\n",
    "```\n",
    "升级`pip`:\n",
    "```\n",
    "pip install -U pip\n",
    "```\n",
    "使用`pip`安装package:\n",
    "```\n",
    "pip install SomePackage\n",
    "pip install SomePackage == 1.0.4\n",
    "pip install 'SomePackage >= 1.0.4'\n",
    "```\n",
    "使用`pip`升级包:\n",
    "```\n",
    "pip install --upgrade SomePackage\n",
    "```\n",
    "检索已经安装的包的信息:\n",
    "```\n",
    "pip show\n",
    "```\n",
    "列出已安装的包:\n",
    "```\n",
    "pip list\n",
    "```\n",
    "在一些包的安装过程中可能会出现`Connection Timeout`的情况，常是由于网络问题，可以考虑使用国内的镜像网站，如清华的镜像<https://pypi.tuna.tsinghua.edu.cn/simple>\n",
    "```\n",
    "pip install -i https://pypi.tuna.tsinghua.edu.cn/simple some-package\n",
    "```"
   ]
  },
  {
   "cell_type": "markdown",
   "metadata": {},
   "source": [
    "### Where are my packages?"
   ]
  },
  {
   "cell_type": "markdown",
   "metadata": {},
   "source": [
    "有时候我们明明已经安装了某个包，但在`import package`后会返回`PackageNotFound`的错误。这需要我们理解Python查找包的机制。<br>\n",
    "若Python解释器的路径是`$path_prefix/bin/python`,那么Python解释器会依次寻找，<br>\n",
    "1. `$path_prefix/lib`\n",
    "2. `$path_prefix/lib/pythonX.Y/site-packages`\n",
    "3. 当前的工作目录"
   ]
  },
  {
   "cell_type": "code",
   "execution_count": 2,
   "metadata": {
    "ExecuteTime": {
     "end_time": "2022-07-16T07:25:34.846468Z",
     "start_time": "2022-07-16T07:25:34.839147Z"
    }
   },
   "outputs": [
    {
     "name": "stdout",
     "output_type": "stream",
     "text": [
      "当前使用的python解释器路径：D:\\Program\\Anaconda3\\python.exe\n",
      "当前包的搜索路径：['C:\\\\Users\\\\Zexu Zheng\\\\格致经济小组Python课程开发\\\\lecture', 'D:\\\\Program\\\\Anaconda3\\\\python37.zip', 'D:\\\\Program\\\\Anaconda3\\\\DLLs', 'D:\\\\Program\\\\Anaconda3\\\\lib', 'D:\\\\Program\\\\Anaconda3', '', 'D:\\\\Program\\\\Anaconda3\\\\lib\\\\site-packages', 'D:\\\\Program\\\\Anaconda3\\\\lib\\\\site-packages\\\\win32', 'D:\\\\Program\\\\Anaconda3\\\\lib\\\\site-packages\\\\win32\\\\lib', 'D:\\\\Program\\\\Anaconda3\\\\lib\\\\site-packages\\\\Pythonwin', 'D:\\\\Program\\\\Anaconda3\\\\lib\\\\site-packages\\\\IPython\\\\extensions', 'C:\\\\Users\\\\Zexu Zheng\\\\.ipython']\n"
     ]
    }
   ],
   "source": [
    "import sys\n",
    "print('当前使用的python解释器路径：{0}'.format(sys.executable))\n",
    "print('当前包的搜索路径：{0}'.format(sys.path))\n",
    "print('当前使用的path_prefix：{0}'.format())"
   ]
  },
  {
   "cell_type": "markdown",
   "metadata": {},
   "source": [
    "### How to import modules from a package?"
   ]
  },
  {
   "cell_type": "markdown",
   "metadata": {},
   "source": [
    "Just use import！<br>\n",
    "可以直接引入模块，如 <br>\n",
    "```python\n",
    "from mypckg import mod1\n",
    "from mypckg import mod2\n",
    "```\n",
    "也可以引入模块中特定的函数，如<br>\n",
    "```python\n",
    "from mypckg.mod1 import gfg \n",
    "from mypckg.mod2 import sum\n",
    "```"
   ]
  },
  {
   "cell_type": "markdown",
   "metadata": {},
   "source": [
    "## Modules"
   ]
  },
  {
   "cell_type": "markdown",
   "metadata": {},
   "source": [
    "Module（模块）是一个内含Python定义和语句的文件。一个Module中可以含有函数、类和变量。将代码组织进module中大大增强了其可读性和易用性。这也使代码组织的更有逻辑。"
   ]
  },
  {
   "cell_type": "markdown",
   "metadata": {},
   "source": [
    "与前面引入包一样，引入模块也需要使用`import`语句。\n",
    "```python\n",
    "import SomeModule\n",
    "from SomeModule import *\n",
    "```"
   ]
  },
  {
   "cell_type": "markdown",
   "metadata": {},
   "source": [
    "## Functions"
   ]
  },
  {
   "cell_type": "markdown",
   "metadata": {},
   "source": [
    "### What are Functions?"
   ]
  },
  {
   "cell_type": "markdown",
   "metadata": {},
   "source": [
    "函数是组织好的，可重复使用的代码段。函数能提高应用的模块性，和代码的重复利用率。Python中的函数分为内建函数（build-in functions）和用户自建函数。"
   ]
  },
  {
   "cell_type": "code",
   "execution_count": 1,
   "metadata": {
    "ExecuteTime": {
     "end_time": "2022-07-17T01:41:55.760950Z",
     "start_time": "2022-07-17T01:41:55.753725Z"
    }
   },
   "outputs": [
    {
     "name": "stdout",
     "output_type": "stream",
     "text": [
      "odd\n"
     ]
    }
   ],
   "source": [
    "def evenOdd(x):\n",
    "    if (x % 2 == 0):\n",
    "        print('even')\n",
    "    else:\n",
    "        print('odd')\n",
    "\n",
    "evenOdd(3)"
   ]
  },
  {
   "cell_type": "markdown",
   "metadata": {},
   "source": [
    "### What is Procedure Oriented（面向过程）？"
   ]
  },
  {
   "cell_type": "markdown",
   "metadata": {},
   "source": [
    "面向过程是一种以过程为中心的编程思想，它首先分析出解决问题所需要的步骤，然后用函数把这些步骤一步一步实现，在使用时依次调用，是一种基础的顺序的思维方式。"
   ]
  },
  {
   "cell_type": "markdown",
   "metadata": {},
   "source": [
    "## Class"
   ]
  },
  {
   "cell_type": "markdown",
   "metadata": {},
   "source": [
    "### What is Object Oriented（面向对象）?"
   ]
  },
  {
   "cell_type": "markdown",
   "metadata": {},
   "source": [
    "面向对象方法直接把所有事物都当作独立的对象，处理问题过程中所思考的不再主要是怎样用数据结构来描述问题，而是直接考虑重现问题中各个对象之间的关系。我们需要把待解决的问题分解成各个对象，建立对象的目的不是为了完成一个步骤，而是为了描述某个对象在整个解决问题的步骤中的属性的行为。"
   ]
  },
  {
   "cell_type": "markdown",
   "metadata": {},
   "source": [
    "### 术语表\n",
    "_类_（calss）用来描述具有相同的属性和方法的对象的集合。它定义了该集合中每个对象所共有的属性和方法。对象是类的实例。类由名称、方法、属性组成，其中的方法和属性都是抽象的概念<p>\n",
    "_类变量_在整个实例化的对象中是公用的。类变量定义在类中且在函数体之外。类变量通常不作为实例变量使用。<p>\n",
    "_数据成员_类变量或实例变量用于处理类及其实例对象的相关数据<p>\n",
    "_方法重写_若从父类继承的方法不能满足子类的需求，可以对其进行改写，此方法被称为方法的覆盖<p>\n",
    "_实例变量_定义在方法中的变量，只作用于当前实例的类<p>\n",
    "_继承_即一个派生类继承基类的字段和方法。继承允许把一个派生类的对象作为一个基类对象对待。<p>\n",
    "_实例化_创建一个类的实例，类的具体对象<p>\n",
    "_方法_类中定义的函数<p>\n",
    "_对象_通过类定义的数据结构实例<p>\n",
    "面向对象编程是一种编程方式，此编程方式的落地需要使用“类”和“对象”来实现。"
   ]
  },
  {
   "cell_type": "code",
   "execution_count": 1,
   "metadata": {},
   "outputs": [
    {
     "name": "stdout",
     "output_type": "stream",
     "text": [
      "Bar\n",
      "i am andy\n"
     ]
    }
   ],
   "source": [
    "class Foo:#创建名为Foo的类\n",
    "    def bar(self):#创建函数bar()和hello()，类中的函数被称为方法，值得注意的是，类中函数的第一个参数必定为self\n",
    "        print(\"Bar\")\n",
    "    def hello(self,name):\n",
    "        print(\"i am %s\" %name)\n",
    "#根据Foo创建对象obj\n",
    "obj = Foo()\n",
    "obj.bar()#分别执行Foo中定义的两个方法\n",
    "obj.hello(\"andy\")"
   ]
  },
  {
   "cell_type": "markdown",
   "metadata": {},
   "source": [
    "在此处的例子中，单纯的函数编程显然比面向对象编程要简单的多，但当各个函数间需要共用数据时，面对对象编程的优势就体现出来了。"
   ]
  },
  {
   "cell_type": "code",
   "execution_count": 15,
   "metadata": {},
   "outputs": [
    {
     "name": "stdout",
     "output_type": "stream",
     "text": [
      "Name :  Zara , Salary:  2000\n",
      "Name :  Manni , Salary:  5000\n",
      "Total Employee 1\n"
     ]
    }
   ],
   "source": [
    "class Employee:\n",
    "   empCount = 0#empCount是一个类变量，它的值将在这个类的所有实例之间共享。可以使用Employee.empCount访问。\n",
    "   def __init__(self, name, salary):#_init_是一种特殊的方法，被称为类的构造函数或初始化方法。当创建了这个类的实例后就会调用该方法。\n",
    "      self.name = name\n",
    "      self.salary = salary\n",
    "      Employee.empCount += 1\n",
    "   \n",
    "   def displayCount(self):\n",
    "     print (\"Total Employee %d\" % Employee.empCount)\n",
    " \n",
    "   def displayEmployee(self):\n",
    "      print (\"Name : \", self.name,  \", Salary: \", self.salary)\n",
    " \n",
    "emp1 = Employee(\"Zara\", 2000)#实例化Employee的对象\n",
    "emp2 = Employee(\"Manni\", 5000)\n",
    "emp1.displayEmployee()\n",
    "emp2.displayEmployee()\n",
    "print(\"Total Employee %d\" % Employee.empCount)"
   ]
  },
  {
   "cell_type": "markdown",
   "metadata": {},
   "source": [
    "### 面向对象的三大特征\n",
    "#### 封装\n",
    "使用构造方法将内容封装到对象中，然后通过对象直接或者self间接获取被封装的内容\n"
   ]
  },
  {
   "cell_type": "code",
   "execution_count": 17,
   "metadata": {
    "collapsed": true
   },
   "outputs": [],
   "source": [
    "class Foo:\n",
    "    def __init__(self,name,age):\n",
    "        self.name = name\n",
    "        self.age = age\n",
    "    def detail(self):\n",
    "        print(self.name)\n",
    "        print(self.age)\n",
    "obj1 = Foo('amy',18)#此时self相当于obj1，内容被封装到了对象obj1中，此对象有name和age两个属性\n",
    "obj2 = Foo('sally',20)#此时self相当于obj2"
   ]
  },
  {
   "cell_type": "markdown",
   "metadata": {},
   "source": [
    "调用被封装的内容，有两种情况：a)通过对象直接调用；b)通过self间接调用"
   ]
  },
  {
   "cell_type": "code",
   "execution_count": 18,
   "metadata": {},
   "outputs": [
    {
     "name": "stdout",
     "output_type": "stream",
     "text": [
      "amy\n",
      "20\n",
      "amy\n",
      "18\n"
     ]
    }
   ],
   "source": [
    "#a)通过对象直接调用\n",
    "print(obj1.name)#直接调用obj1对象的name属性\n",
    "print(obj2.age)#直接调用obj2对象的age属性\n",
    "#b)通过self间接调用\n",
    "obj1.detail()#python默认将obj1传给self参数，即obj1.detail(obj1)"
   ]
  },
  {
   "cell_type": "markdown",
   "metadata": {},
   "source": [
    "#### 继承\n",
    "子可以继承父的内容，即将多个类共有的方法提取到父类中去，子类仅需继承父类而不需要一一实现每个方法。"
   ]
  },
  {
   "cell_type": "code",
   "execution_count": 20,
   "metadata": {},
   "outputs": [
    {
     "data": {
      "text/plain": [
       "'\\nclass 父类：\\n    def 父类中的方法(self):\\n        #do someting\\nclass 子类(父类):\\n    pass\\nzi = 子类()#创建子类对象\\nzi.父类中的方法()\\n'"
      ]
     },
     "execution_count": 20,
     "metadata": {},
     "output_type": "execute_result"
    }
   ],
   "source": [
    "'''\n",
    "class 父类：\n",
    "    def 父类中的方法(self):\n",
    "        #do someting\n",
    "class 子类(父类):\n",
    "    pass\n",
    "zi = 子类()#创建子类对象\n",
    "zi.父类中的方法()\n",
    "'''"
   ]
  },
  {
   "cell_type": "markdown",
   "metadata": {
    "collapsed": true
   },
   "source": [
    "类可以分为经典类和新式类，基本语法如下。"
   ]
  },
  {
   "cell_type": "code",
   "execution_count": 3,
   "metadata": {},
   "outputs": [
    {
     "name": "stdout",
     "output_type": "stream",
     "text": [
      "<__main__.name object at 0x000001FA65D9DFD0>\n"
     ]
    }
   ],
   "source": [
    "class name:#用大驼峰命名法\n",
    "    pass\n",
    "one = name()#实例化类\n",
    "print(one)"
   ]
  },
  {
   "cell_type": "markdown",
   "metadata": {},
   "source": [
    "## 面向对象在Python中的实践\n",
    "### 属性相关\n",
    "#### 属性与变量之间存在差异\n",
    "属性是属于某个对象的特征，必须通过对象才能进行访问。对象也是通过变量名来引用的，也有相应的访问权限。<p>\n",
    "变量是可以改变的量值，存储在内存当中。变量根据其不同的位置，存在不同的访问权限，如全局变量、局部变量。<p>\n",
    "属性分为对象属性和类属性。对于对象属性，我们关注其增、查、改、删四大功能。<p>\n",
    "在增加方面，可以直接通过对象，动态添加，如对象.属性 = 值；或通过类的初始化方法进行添加。<p>"
   ]
  },
  {
   "cell_type": "code",
   "execution_count": 8,
   "metadata": {},
   "outputs": [
    {
     "name": "stdout",
     "output_type": "stream",
     "text": [
      "18\n",
      "{'age': 18}\n"
     ]
    }
   ],
   "source": [
    "#1.定义一个类\n",
    "class Person:\n",
    "    pass\n",
    "#2.创建一个对象\n",
    "p = Person()\n",
    "#3.给对象增加属性\n",
    "p.age = 18\n",
    "#4.验证是否添加成功\n",
    "print(p.age)\n",
    "print(p.__dict__)#返回对象内的所有属性"
   ]
  },
  {
   "cell_type": "markdown",
   "metadata": {},
   "source": [
    "修改和增加属性在语法上是一致的，本质都是在内存中写入内容。若该属性在写入前不存在，则判定为增加属性，否则是修改属性。"
   ]
  },
  {
   "cell_type": "code",
   "execution_count": 9,
   "metadata": {
    "collapsed": true
   },
   "outputs": [],
   "source": [
    "#5.修改属性内容\n",
    "p.age = 123\n",
    "#修改可变属性\n",
    "p.pets = [\"小花\",\"小黑\"]\n",
    "p.pets = [1,2]#改变位置\n",
    "p.pets.append(\"小黄\")#不改变位置，使用的查询功能。"
   ]
  },
  {
   "cell_type": "markdown",
   "metadata": {},
   "source": [
    "删除属性。"
   ]
  },
  {
   "cell_type": "code",
   "execution_count": 10,
   "metadata": {
    "collapsed": true
   },
   "outputs": [],
   "source": [
    "#删除属性\n",
    "del p.age"
   ]
  },
  {
   "cell_type": "markdown",
   "metadata": {},
   "source": [
    "对于类属性，我们依然关注增查删改四个方面。"
   ]
  },
  {
   "cell_type": "code",
   "execution_count": 12,
   "metadata": {},
   "outputs": [
    {
     "name": "stdout",
     "output_type": "stream",
     "text": [
      "1\n",
      "{'__module__': '__main__', '__dict__': <attribute '__dict__' of 'Money' objects>, '__weakref__': <attribute '__weakref__' of 'Money' objects>, '__doc__': None, 'count': 1}\n",
      "0\n",
      "{'__module__': '__main__', 'DogCount': 0, '__dict__': <attribute '__dict__' of 'Dog' objects>, '__weakref__': <attribute '__weakref__' of 'Dog' objects>, '__doc__': None}\n"
     ]
    }
   ],
   "source": [
    "class Money:\n",
    "    pass\n",
    "Money.count = 1#增加类属性\n",
    "print(Money.count)\n",
    "print(Money.__dict__)\n",
    "class Dog:#直接在类内增加属性\n",
    "    DogCount = 0\n",
    "print(Dog.DogCount)\n",
    "print(Dog.__dict__)"
   ]
  },
  {
   "cell_type": "code",
   "execution_count": 1,
   "metadata": {},
   "outputs": [
    {
     "name": "stdout",
     "output_type": "stream",
     "text": [
      "<class '__main__.Money'>\n",
      "18\n",
      "1\n"
     ]
    }
   ],
   "source": [
    "class Money:\n",
    "    age =18#直接增加类属性\n",
    "    count = 1\n",
    "    num = 666\n",
    "one = Money()#实例化\n",
    "print(one.__class__)\n",
    "print(one.age)#可以通过对象查询类属性，这与python对象的属性查找机制有关\n",
    "print(one.count)"
   ]
  },
  {
   "cell_type": "code",
   "execution_count": 4,
   "metadata": {},
   "outputs": [
    {
     "name": "stdout",
     "output_type": "stream",
     "text": [
      "<class '__main__.Money'>\n",
      "<class '__main__.Test'>\n",
      "女\n"
     ]
    }
   ],
   "source": [
    "class Test:\n",
    "    sex = \"男\"\n",
    "print(one.__class__)\n",
    "one.__class__ = Test#更改名称所指向的类\n",
    "print(one.__class__)\n",
    "one.sex = \"女\"#python先查找自身属性，再查找类的属性#\n",
    "print(one.sex)"
   ]
  },
  {
   "cell_type": "code",
   "execution_count": 2,
   "metadata": {},
   "outputs": [
    {
     "name": "stdout",
     "output_type": "stream",
     "text": [
      "22\n"
     ]
    }
   ],
   "source": [
    "#直接通过类名修改\n",
    "Money.age = 22\n",
    "print(Money.age)\n",
    "#不可以通过对象修改类属性，因为其查找逻辑会变为给对象增加新属性"
   ]
  },
  {
   "cell_type": "markdown",
   "metadata": {},
   "source": [
    "类的属性不可以通过对象增、改、删，只能通过对象进行访问。"
   ]
  },
  {
   "cell_type": "code",
   "execution_count": 3,
   "metadata": {
    "collapsed": true
   },
   "outputs": [],
   "source": [
    "del Money.age"
   ]
  },
  {
   "cell_type": "markdown",
   "metadata": {},
   "source": [
    "注意两个问题：<p>\n",
    "1.类属性的内存存储问题<p>\n",
    "对象的属性被储存在__dict__字典中，可以通过字典直接对对象属性进行操作。但是类对象的__dict__属性是只读的，不可被直接修改，可以使用set等方法进行修改。<p>\n",
    "2.类属性被各个对象共享<p>\n",
    "由同一个类生成的不同对象在访问同一类属性时得到的返回值是相同的。"
   ]
  },
  {
   "cell_type": "code",
   "execution_count": 6,
   "metadata": {
    "collapsed": true
   },
   "outputs": [],
   "source": [
    "one.__dict__ = {\"sex\":\"女\",\"name\":\"sz\"}#对象属性直接用字典修改"
   ]
  },
  {
   "cell_type": "markdown",
   "metadata": {},
   "source": [
    "通过类属性限制对象添加属性的方式如下："
   ]
  },
  {
   "cell_type": "code",
   "execution_count": 9,
   "metadata": {
    "collapsed": true
   },
   "outputs": [],
   "source": [
    "class Person:\n",
    "    __slots__=[\"age\",\"name\"]#限制对象可以添加的属性"
   ]
  },
  {
   "cell_type": "markdown",
   "metadata": {},
   "source": [
    "### 方法相关\n",
    "方法在描述一个目标的行为和动作，与函数非常相似！他们都封装了一系列的行为和动作，也都可以在被调用之后执行一系列的行为和动作。方法与函数之间最大的不同在于调用方式。"
   ]
  },
  {
   "cell_type": "code",
   "execution_count": 10,
   "metadata": {},
   "outputs": [
    {
     "name": "stdout",
     "output_type": "stream",
     "text": [
      "1\n",
      "2\n",
      "3\n",
      "1\n",
      "2\n",
      "3\n"
     ]
    }
   ],
   "source": [
    "def eat():#函数\n",
    "    print(1)\n",
    "    print(2)\n",
    "    print(3)\n",
    "eat()#函数的调用\n",
    "class Person:\n",
    "    def eat2(self):#方法\n",
    "        print(1)\n",
    "        print(2)\n",
    "        print(3)\n",
    "p = Person()\n",
    "p.eat2()#方法的调用"
   ]
  },
  {
   "cell_type": "markdown",
   "metadata": {},
   "source": [
    "**Python中的方法可以分为三类** <br>\n",
    "可以根据方法的第一个参数必须接收的数据类型将方法分为三类。这三种不同的方法都是储存在类对象中的。<p>\n",
    "实例方法：第一个参数必须接收到一个实例<p>\n",
    "类方法：第一个参数必须接收到一个类<p>\n",
    "静态方法：第一个参数默认什么也不接收<p>"
   ]
  },
  {
   "cell_type": "code",
   "execution_count": 14,
   "metadata": {},
   "outputs": [
    {
     "name": "stdout",
     "output_type": "stream",
     "text": [
      "1 <__main__.People object at 0x00000194065CED68>\n",
      "2 <class '__main__.People'>\n",
      "3\n",
      "{'__module__': '__main__', 'eat2': <function People.eat2 at 0x000001940652FA60>, 'eat3': <classmethod object at 0x00000194065CEC88>, 'eat4': <staticmethod object at 0x00000194065CE2B0>, '__dict__': <attribute '__dict__' of 'People' objects>, '__weakref__': <attribute '__weakref__' of 'People' objects>, '__doc__': None}\n"
     ]
    }
   ],
   "source": [
    "class People:\n",
    "    def eat2(self):#实例方法，self只是一个形式参数的名称，可以随意更改\n",
    "        print(1,self)\n",
    "    @classmethod #装饰器，用于写类方法\n",
    "    def eat3(cls):\n",
    "        print(2,cls)\n",
    "    @staticmethod#装饰器，用于写静态方法，对第一个参数没有任何限制\n",
    "    def eat4():\n",
    "        print(3)\n",
    "q = People()\n",
    "q.eat2()#方法并没有传入参数，但是自动将实例作为self参数放入\n",
    "People.eat3()#调用类方法，自动将类作为参数传入\n",
    "People.eat4()#调用静态方法\n",
    "print(People.__dict__)#查看方法的储存位置"
   ]
  },
  {
   "cell_type": "markdown",
   "metadata": {},
   "source": [
    "#### 实例方法\n",
    "按照函数的写法在类中直接写即可。__在使用方法时发现需要使用实例本身，设计一个实例方法可以帮助我们少传入一个参数。使用类方法时的场景相似。__<p>\n",
    "实例方法有多重调用方式：标准调用是使用实例调用实例方法，不需要手动输入第一个参数，解释器会自动把调用的对象传递过去，若实例方法没有接收任何参数，则会报错；使用类调用和间接调用的本质是在内存中直接找到函数进行调用。"
   ]
  },
  {
   "cell_type": "code",
   "execution_count": 16,
   "metadata": {},
   "outputs": [
    {
     "name": "stdout",
     "output_type": "stream",
     "text": [
      "在吃饭 土豆\n",
      "在吃饭 土豆\n",
      "在吃饭 土豆\n"
     ]
    }
   ],
   "source": [
    "class Person:\n",
    "    def eat(self,food):\n",
    "        print(\"在吃饭\",food)\n",
    "p = Person()\n",
    "p.eat(\"土豆\")#标准调用\n",
    "Person.eat(123,\"土豆\")#使用类调用\n",
    "func = Person.eat#间接调用\n",
    "func(123,\"土豆\")"
   ]
  },
  {
   "cell_type": "markdown",
   "metadata": {},
   "source": [
    "#### 类方法\n",
    "利用装饰器@classmethod在保证原函数不改变的前提下，直接给这个函数增加一些新的功能"
   ]
  },
  {
   "cell_type": "code",
   "execution_count": 19,
   "metadata": {},
   "outputs": [
    {
     "name": "stdout",
     "output_type": "stream",
     "text": [
      "这是一个类方法 <class '__main__.Human'> 123\n",
      "这是一个类方法 <class '__main__.Human'> 666\n",
      "这是一个类方法 <class '__main__.A'> 234\n"
     ]
    }
   ],
   "source": [
    "class Human:\n",
    "    @classmethod\n",
    "    def leifangfa(cls,a):\n",
    "        print(\"这是一个类方法\",cls,a)\n",
    "Human.leifangfa(123)#直接用类调用\n",
    "p = Human()\n",
    "p.leifangfa(666)#使用实例调用类方法\n",
    "func = Human.leifangfa#间接调用\n",
    "class A(Human):#创建Human的子类A\n",
    "    pass\n",
    "A.leifangfa(234)"
   ]
  },
  {
   "cell_type": "markdown",
   "metadata": {},
   "source": [
    "#### 静态方法\n",
    "利用@staticmethod装饰器"
   ]
  },
  {
   "cell_type": "code",
   "execution_count": 20,
   "metadata": {},
   "outputs": [
    {
     "name": "stdout",
     "output_type": "stream",
     "text": [
      "这是一个静态方法\n",
      "这是一个静态方法\n",
      "这是一个静态方法\n"
     ]
    }
   ],
   "source": [
    "class Person:\n",
    "    @staticmethod\n",
    "    def jingtai():\n",
    "        print(\"这是一个静态方法\")\n",
    "Person.jingtai()\n",
    "p = Person()\n",
    "p.jingtai()\n",
    "func = Person.jingtai\n",
    "func()"
   ]
  },
  {
   "cell_type": "markdown",
   "metadata": {
    "collapsed": true
   },
   "source": [
    "#### 不同类型方法访问不同类型属性的权限问题"
   ]
  },
  {
   "cell_type": "code",
   "execution_count": 4,
   "metadata": {},
   "outputs": [
    {
     "name": "stdout",
     "output_type": "stream",
     "text": [
      "18\n",
      "18\n",
      "10\n",
      "<__main__.Person object at 0x000002DA22D88DD8>\n",
      "18\n",
      "10\n",
      "<class '__main__.Person'>\n",
      "18\n"
     ]
    }
   ],
   "source": [
    "class Person:\n",
    "    age = 18#类属性\n",
    "    def shilifangfa(self):#实例方法\n",
    "        print(self)\n",
    "        print(self.age)#实例方法可以访问类属性\n",
    "        print(self.num)#实例方法可以访问实例属性\n",
    "    @classmethod#类方法\n",
    "    def leifangfa(cls):\n",
    "        print(cls)\n",
    "        print(cls.age)#类方法只可以访问类属性\n",
    "    @staticmethod\n",
    "    def jingtaifangfa():\n",
    "        print(person.age)\n",
    "\n",
    "p = Person()\n",
    "p.num = 10#实例属性\n",
    "#访问类属性\n",
    "print(Person.age)\n",
    "print(p.age)\n",
    "#访问实例属性\n",
    "print(p.num)\n",
    "\n",
    "p.shilifangfa()\n",
    "p.leifangfa()"
   ]
  },
  {
   "cell_type": "markdown",
   "metadata": {},
   "source": [
    "### 知识点补充\n",
    "#### 类相关补充\n",
    "__元类__是创建类对象的类。对象是由类创造出来的，而类也是一个对象，因此类对象也是由另外的一个类（__元类__）创造出来的。<p>"
   ]
  },
  {
   "cell_type": "code",
   "execution_count": 8,
   "metadata": {},
   "outputs": [
    {
     "name": "stdout",
     "output_type": "stream",
     "text": [
      "<class 'int'>\n",
      "<class 'str'>\n",
      "<class '__main__.Person'>\n",
      "--------------------\n",
      "<class 'type'>\n",
      "<class 'type'>\n",
      "<class 'type'>\n"
     ]
    }
   ],
   "source": [
    "num = 10\n",
    "print(num.__class__)#关联的是int类型\n",
    "s = \"abc\"\n",
    "print(s.__class__)#关联的是字符串类型\n",
    "class Person:\n",
    "    pass\n",
    "p = Person()\n",
    "print(p.__class__)#关联的是Person类\n",
    "print('-'*20)\n",
    "print(int.__class__)\n",
    "print(str.__class__)\n",
    "print(Person.__class__)#以上三者关联的均是type元类"
   ]
  },
  {
   "cell_type": "markdown",
   "metadata": {},
   "source": [
    "利用__元类__直接创建类的方法如下："
   ]
  },
  {
   "cell_type": "code",
   "execution_count": 14,
   "metadata": {},
   "outputs": [
    {
     "name": "stdout",
     "output_type": "stream",
     "text": [
      "<class '__main__.Dog'>\n",
      "{'count': 0, 'run': <function run at 0x000002DA22E00F28>, '__module__': '__main__', '__dict__': <attribute '__dict__' of 'Dog' objects>, '__weakref__': <attribute '__weakref__' of 'Dog' objects>, '__doc__': None}\n",
      "<__main__.Dog object at 0x000002DA22D4E780>\n",
      "<__main__.Dog object at 0x000002DA22D4E780>\n"
     ]
    }
   ],
   "source": [
    "def run(self):\n",
    "    print(self)\n",
    "\n",
    "Dog = type(\"Dog\",(),{\"count\":0,\"run\":run})#名称、父类、dict\n",
    "print(Dog)\n",
    "print(Dog.__dict__)\n",
    "d = Dog()#创建实例\n",
    "print(d)\n",
    "d.run()"
   ]
  },
  {
   "cell_type": "markdown",
   "metadata": {},
   "source": [
    "类对象在被创建时，会利用一套检索机制（1.检测类中是否有明确metaclass属性；2.检测父类中是否有明确metaclass属性；3.检测模块中是否有明确metaclass属性。）确定被哪个__元类__创造出来，而不一定总是由type生成。即可以在创建类对象时指明应用的元类。<p>\n",
    "通过元类，我们可以拦截类的创建、修改类、返回修改之后的类。"
   ]
  },
  {
   "cell_type": "code",
   "execution_count": 15,
   "metadata": {
    "collapsed": true
   },
   "outputs": [],
   "source": [
    "class Person:\n",
    "    __metaclass__= type#指明使用的元类\n",
    "    pass"
   ]
  },
  {
   "cell_type": "markdown",
   "metadata": {},
   "source": [
    "__类的描述__可以方便理清逻辑思路，方便多人开发时的沟通，方便生成项目文档。"
   ]
  },
  {
   "cell_type": "code",
   "execution_count": 16,
   "metadata": {
    "collapsed": true
   },
   "outputs": [],
   "source": [
    "class Person:\n",
    "    \"\"\"\n",
    "    关于这个类的描述，类的作用，类的构造函数\n",
    "    Attributes:(类属性的描述)\n",
    "    \"\"\"\n",
    "    count = 1\n",
    "    \n",
    "    def run(self,distance,step):\n",
    "        \"\"\"\n",
    "        这个方法的作用，效果\n",
    "        写明各个参数的含义、参数的类型，是否有默认值\n",
    "        写明返回结果的含义、类型\n",
    "        \"\"\"\n",
    "        print(\"人在跑\")\n"
   ]
  },
  {
   "cell_type": "markdown",
   "metadata": {},
   "source": [
    "#### 属性相关补充\n",
    "__私有化属性__可以缩小属性的访问范围。Python中并没有真正的私有化支持，但是可以使用下划线完成伪私有的效果。类方法（属性）、和实例属性（方法）遵循相同的原则。一个下划线代表受保护的属性，两个下划线代表私有属性。<p>\n",
    "类的访问范围可以分为：类内部访问、子类内部访问、模块内其他位置访问、跨模块访问（import形式导入）"
   ]
  },
  {
   "cell_type": "code",
   "execution_count": 27,
   "metadata": {},
   "outputs": [
    {
     "name": "stdout",
     "output_type": "stream",
     "text": [
      "10\n",
      "10\n",
      "10\n",
      "10\n",
      "10\n",
      "10\n",
      "10\n",
      "10\n"
     ]
    }
   ],
   "source": [
    "#公有属性\n",
    "class Animal:\n",
    "    x = 10\n",
    "    def test(self):\n",
    "        print(Animal.x)#类内部访问公有属性\n",
    "        print(self.x)\n",
    "    pass\n",
    "\n",
    "class Dog(Animal):#子类\n",
    "    def test2(self):\n",
    "        print(Dog.x)#子类内部访问\n",
    "        print(self.x)\n",
    "    pass\n",
    "a = Animal()\n",
    "a.test()\n",
    "d = Dog()\n",
    "d.test2()\n",
    "print(Animal.x)#模块内其他位置访问\n",
    "print(Dog.x)\n",
    "print(a.x)\n",
    "print(d.x)\n",
    "#跨模块访问两种方式均成功"
   ]
  },
  {
   "cell_type": "code",
   "execution_count": 28,
   "metadata": {},
   "outputs": [
    {
     "name": "stdout",
     "output_type": "stream",
     "text": [
      "10\n",
      "10\n",
      "10\n",
      "10\n",
      "10\n"
     ]
    }
   ],
   "source": [
    "#受保护的属性\n",
    "class Animal:\n",
    "    _x = 10\n",
    "    def test(self):\n",
    "        print(Animal._x)#类内部,成功 \n",
    "        print(self._x)\n",
    "a = Animal()\n",
    "a.test()\n",
    "class Dog(Animal):\n",
    "    def test2(self):#子类内部，成功\n",
    "        print(Dog._x)\n",
    "        print(self._x)\n",
    "d = Dog()\n",
    "d.test2()\n",
    "\n",
    "print(Animal._x)#模块其他位置，成功\n",
    "#跨模块访问，import package方式成功；from package import *方式不成功，若使用__all__ = [\"_x\"]声明后，亦可成功导入"
   ]
  },
  {
   "cell_type": "code",
   "execution_count": 30,
   "metadata": {},
   "outputs": [
    {
     "name": "stdout",
     "output_type": "stream",
     "text": [
      "10\n",
      "10\n"
     ]
    },
    {
     "ename": "AttributeError",
     "evalue": "type object 'Dog' has no attribute '_Dog__x'",
     "output_type": "error",
     "traceback": [
      "\u001b[1;31m---------------------------------------------------------------------------\u001b[0m",
      "\u001b[1;31mAttributeError\u001b[0m                            Traceback (most recent call last)",
      "\u001b[1;32m<ipython-input-30-3c7c669d09d0>\u001b[0m in \u001b[0;36m<module>\u001b[1;34m()\u001b[0m\n\u001b[0;32m     12\u001b[0m         \u001b[0mprint\u001b[0m\u001b[1;33m(\u001b[0m\u001b[0mself\u001b[0m\u001b[1;33m.\u001b[0m\u001b[0m__x\u001b[0m\u001b[1;33m)\u001b[0m\u001b[1;33m\u001b[0m\u001b[0m\n\u001b[0;32m     13\u001b[0m \u001b[0md\u001b[0m \u001b[1;33m=\u001b[0m \u001b[0mDog\u001b[0m\u001b[1;33m(\u001b[0m\u001b[1;33m)\u001b[0m\u001b[1;33m\u001b[0m\u001b[0m\n\u001b[1;32m---> 14\u001b[1;33m \u001b[0md\u001b[0m\u001b[1;33m.\u001b[0m\u001b[0mtest2\u001b[0m\u001b[1;33m(\u001b[0m\u001b[1;33m)\u001b[0m\u001b[1;33m\u001b[0m\u001b[0m\n\u001b[0m\u001b[0;32m     15\u001b[0m \u001b[1;33m\u001b[0m\u001b[0m\n\u001b[0;32m     16\u001b[0m \u001b[1;31m# print(Animal._x)#模块其他位置，成功\u001b[0m\u001b[1;33m\u001b[0m\u001b[1;33m\u001b[0m\u001b[0m\n",
      "\u001b[1;32m<ipython-input-30-3c7c669d09d0>\u001b[0m in \u001b[0;36mtest2\u001b[1;34m(self)\u001b[0m\n\u001b[0;32m      9\u001b[0m \u001b[1;32mclass\u001b[0m \u001b[0mDog\u001b[0m\u001b[1;33m(\u001b[0m\u001b[0mAnimal\u001b[0m\u001b[1;33m)\u001b[0m\u001b[1;33m:\u001b[0m\u001b[1;33m\u001b[0m\u001b[0m\n\u001b[0;32m     10\u001b[0m     \u001b[1;32mdef\u001b[0m \u001b[0mtest2\u001b[0m\u001b[1;33m(\u001b[0m\u001b[0mself\u001b[0m\u001b[1;33m)\u001b[0m\u001b[1;33m:\u001b[0m\u001b[1;31m#子类内部，成功\u001b[0m\u001b[1;33m\u001b[0m\u001b[0m\n\u001b[1;32m---> 11\u001b[1;33m         \u001b[0mprint\u001b[0m\u001b[1;33m(\u001b[0m\u001b[0mDog\u001b[0m\u001b[1;33m.\u001b[0m\u001b[0m__x\u001b[0m\u001b[1;33m)\u001b[0m\u001b[1;33m\u001b[0m\u001b[0m\n\u001b[0m\u001b[0;32m     12\u001b[0m         \u001b[0mprint\u001b[0m\u001b[1;33m(\u001b[0m\u001b[0mself\u001b[0m\u001b[1;33m.\u001b[0m\u001b[0m__x\u001b[0m\u001b[1;33m)\u001b[0m\u001b[1;33m\u001b[0m\u001b[0m\n\u001b[0;32m     13\u001b[0m \u001b[0md\u001b[0m \u001b[1;33m=\u001b[0m \u001b[0mDog\u001b[0m\u001b[1;33m(\u001b[0m\u001b[1;33m)\u001b[0m\u001b[1;33m\u001b[0m\u001b[0m\n",
      "\u001b[1;31mAttributeError\u001b[0m: type object 'Dog' has no attribute '_Dog__x'"
     ]
    }
   ],
   "source": [
    "#私有化属性，仅可在类内部访问\n",
    "class Animal:\n",
    "    __x = 10\n",
    "    def test(self):\n",
    "        print(Animal.__x)#类内部,成功 \n",
    "        print(self.__x)\n",
    "a = Animal()\n",
    "a.test()\n",
    "class Dog(Animal):\n",
    "    def test2(self):#子类内部，不成功\n",
    "        print(Dog.__x)\n",
    "        print(self.__x)\n",
    "d = Dog()\n",
    "d.test2()\n",
    "print(Animal.__x)#本模块其他位置，不成功\n",
    "#跨模块访问，import package方式成功；from package import *方式不成功，若使用__all__ = [\"_x\"]声明后，亦可成功导入"
   ]
  },
  {
   "cell_type": "markdown",
   "metadata": {},
   "source": [
    "#### 私有属性的实现机制\n",
    "__名字重整机制__即重改\\__x为另一个名称，如_类名\\__x。可以防止外界直接访问，同时防止被子类同名属性覆盖。可以根据重整机制实现访问！\n",
    "#### 私有化属性的应用场景\n",
    "可以实现数据保护和数据过滤功能，如下所示。"
   ]
  },
  {
   "cell_type": "code",
   "execution_count": 31,
   "metadata": {
    "collapsed": true
   },
   "outputs": [],
   "source": [
    "class Person:\n",
    "    def __init__(self):#在创建好实例对象后，自动调用这个方法，来初始化这个对象\n",
    "        self.__age = 18#此后的实例都会带一个默认的age属性18,其age隶属于不同的实例,但是不能从外部访问或修改\n",
    "    \n",
    "    def setAge(self,value):#可以实现将数据拦截和保护\n",
    "        if isinstance(value,int) and 0< value < 200:\n",
    "            self.__age = value\n",
    "        else:\n",
    "            print(\"数据不合法\")\n",
    "    def getAge(self):\n",
    "        return self.__age"
   ]
  },
  {
   "cell_type": "markdown",
   "metadata": {},
   "source": [
    "#### 添加下划线的规范\n",
    "在变量最后加一个下划线，用于与系统内置的关键字做区分；在变量两边各加两个下划线是系统内值的写法。<p>\n",
    "__只读属性__是只能读取不能写入的属性，一般是实例属性。这些属性只能在内部根据不同场景进行修改，而对外界来说，不能修改，只能读取。<p>\n",
    "为了实现属性只读的功能，可以首先进行私有化（不能读，亦不可写），再进行公开的方法实现部分公开。如下。"
   ]
  },
  {
   "cell_type": "code",
   "execution_count": 35,
   "metadata": {},
   "outputs": [
    {
     "name": "stdout",
     "output_type": "stream",
     "text": [
      "18\n"
     ]
    }
   ],
   "source": [
    "class Person(object):#作为object的子类\n",
    "    def __init__(self):#隐藏读写\n",
    "        self.__age = 18\n",
    "    @property #可以以使用属性的方式来使用这个方法，即可以用p1.getAge进行访问\n",
    "    def getAge(self):\n",
    "        return self.__age\n",
    "    \n",
    "p1 = Person()\n",
    "print(p1.getAge)"
   ]
  },
  {
   "cell_type": "markdown",
   "metadata": {},
   "source": [
    "严格来讲，@property的作用是将一些“属性的操作方法”关联到某一个属性中。<p>\n",
    "实际操作中，存在新式类和经典类两种类。经典类没有继承object类，而新式类继承了object类。Python3定义类默认继承Object。后期建议使用新式类。Property修饰器在经典类和新式类中的使用方法不同。以下介绍其在新式类中的使用方法。"
   ]
  },
  {
   "cell_type": "code",
   "execution_count": 8,
   "metadata": {},
   "outputs": [
    {
     "name": "stdout",
     "output_type": "stream",
     "text": [
      "<class 'object'>\n",
      "<property object at 0x0000025326EBBE58>\n"
     ]
    }
   ],
   "source": [
    "class Person:\n",
    "    pass\n",
    "print(Person.__base__)#查看基类\n",
    "\n",
    "#第一种使用方法\n",
    "class Person():\n",
    "    def __init__(self):\n",
    "        self.__age = 18\n",
    "        \n",
    "    def get_age(self):\n",
    "        return self.__age\n",
    "    \n",
    "    def set_age(self,value):\n",
    "        self.__age = value\n",
    "        \n",
    "    age = property(get_age,set_age)#利用函数\n",
    "\n",
    "p = Person()\n",
    "print(p.age)\n",
    "p.age = 90\n",
    "print(p.age)\n",
    "print(p.__dict__)\n",
    "\n",
    "#第二种使用方法\n",
    "class Person():\n",
    "    def __init__(self):\n",
    "        self.__age = 18\n",
    "    @property #利用装饰器\n",
    "    def age(self):\n",
    "        return self.__age\n",
    "    @age.setter\n",
    "    def age(self,value):\n",
    "        self.__age = value\n",
    "\n",
    "p = Person\n",
    "print(p.age)\n",
    "p.age = 10"
   ]
  },
  {
   "cell_type": "markdown",
   "metadata": {},
   "source": [
    "以上的方法无法实现对私有变量的完全保护，以下介绍第二种方法。"
   ]
  },
  {
   "cell_type": "code",
   "execution_count": 15,
   "metadata": {},
   "outputs": [
    {
     "name": "stdout",
     "output_type": "stream",
     "text": [
      "age 18\n",
      "{'age': 18}\n",
      "name sz\n",
      "{'age': 18, 'name': 'sz'}\n"
     ]
    }
   ],
   "source": [
    "class Person:\n",
    "    def __setattr__(self,key,value):#当我们通过实例.属性 = 值，给一个实例增加一个属性，或者修改一下属性值的时候，都会调用这个方法\n",
    "        print(key,value)#只有在这个方法内部，才会真正把属性及其对应的数据存储到dict中\n",
    "        if key == \"age\"and key in self.__dict__.keys():#判定key是否是我们要设置的只读属性的名称，及是否是第一次出现\n",
    "            print(\"这个属性是只读属性，不能设置数据\")\n",
    "        else:\n",
    "            self.__dict__[key] = value      \n",
    "p1 = Person()\n",
    "p1.age = 18\n",
    "print(p1.__dict__)  \n",
    "p1.name = \"sz\"\n",
    "print(p1.__dict__)  "
   ]
  }
 ],
 "metadata": {
  "kernelspec": {
   "display_name": "Python 3 (ipykernel)",
   "language": "python",
   "name": "python3"
  },
  "language_info": {
   "codemirror_mode": {
    "name": "ipython",
    "version": 3
   },
   "file_extension": ".py",
   "mimetype": "text/x-python",
   "name": "python",
   "nbconvert_exporter": "python",
   "pygments_lexer": "ipython3",
   "version": "3.7.0"
  },
  "toc": {
   "base_numbering": 1,
   "nav_menu": {},
   "number_sections": true,
   "sideBar": true,
   "skip_h1_title": false,
   "title_cell": "Table of Contents",
   "title_sidebar": "Contents",
   "toc_cell": false,
   "toc_position": {
    "height": "calc(100% - 180px)",
    "left": "10px",
    "top": "150px",
    "width": "298.792px"
   },
   "toc_section_display": true,
   "toc_window_display": true
  }
 },
 "nbformat": 4,
 "nbformat_minor": 2
}
