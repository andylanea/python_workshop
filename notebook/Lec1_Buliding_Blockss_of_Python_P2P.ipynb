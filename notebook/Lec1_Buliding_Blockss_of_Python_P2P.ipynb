{
 "cells": [
  {
   "cell_type": "markdown",
   "metadata": {
    "pycharm": {
     "name": "#%% md\n"
    }
   },
   "source": [
    "# Building Blocks of Python Peer to Peer Q&A\n",
    "author: ZeXu.Zheng\n",
    "<br>\n",
    "email: <andyzheng_123@outlook.com>"
   ]
  },
  {
   "cell_type": "markdown",
   "metadata": {
    "pycharm": {
     "name": "#%% md\n"
    }
   },
   "source": [
    "## 什么是变量(Variable)？\n",
    "变量是储存在内存中的值（不一定是数字，可以是字符，这些信息都按照一定的规则进行了编码，如ASCII、Unicode、utf-8等），创建变量时会在内存中开辟一个空间。在编写程序的时候我们总会与变量打交道，因而深刻理解变量是有益的。 \n",
    "\n",
    "GPT-3.5 replies: \n",
    "- In Python, a variable is a named reference to a value that can be used to store and manipulate data. You can think of it as a container that holds a value, such as a number, a string, or a list.\n",
    "- To create a variable in Python, you need to choose a name for the variable and use the assignment operator \"=\" to assign a value to it.\n",
    "- You can also update the value of a variable by assigning a new value to it. \n",
    "- In Python, variables can store values of different data types, such as integers, floats, strings, booleans, and more complex data types like lists, tuples, and dictionaries."
   ]
  },
  {
   "cell_type": "code",
   "execution_count": 1,
   "metadata": {
    "ExecuteTime": {
     "end_time": "2022-07-10T08:23:33.407574Z",
     "start_time": "2022-07-10T08:23:33.400054Z"
    },
    "pycharm": {
     "name": "#%%\n"
    }
   },
   "outputs": [
    {
     "name": "stdout",
     "output_type": "stream",
     "text": [
      "3\n"
     ]
    }
   ],
   "source": [
    "# 单个变量赋值,下面这个语句将3这个数值赋给变量名a。我们可以通过访问变量名a提取数值3。此处，我选择使用print()函数。\n",
    "a = 3\n",
    "print(a)"
   ]
  },
  {
   "cell_type": "code",
   "execution_count": 2,
   "metadata": {
    "ExecuteTime": {
     "end_time": "2022-07-10T08:23:34.851635Z",
     "start_time": "2022-07-10T08:23:34.839632Z"
    },
    "pycharm": {
     "name": "#%%\n"
    }
   },
   "outputs": [
    {
     "name": "stdout",
     "output_type": "stream",
     "text": [
      "3\n",
      "3\n",
      "3\n"
     ]
    }
   ],
   "source": [
    "# 多个变量赋值，同时将3这个数值分别赋给变量名a,b,c。\n",
    "a = b = c = 3\n",
    "for i in [a,b,c]:\n",
    "    print(i)"
   ]
  },
  {
   "cell_type": "code",
   "execution_count": 3,
   "metadata": {
    "ExecuteTime": {
     "end_time": "2022-07-10T08:23:36.068335Z",
     "start_time": "2022-07-10T08:23:36.053336Z"
    },
    "pycharm": {
     "name": "#%%\n"
    }
   },
   "outputs": [
    {
     "name": "stdout",
     "output_type": "stream",
     "text": [
      "1\n",
      "2\n",
      "3\n"
     ]
    }
   ],
   "source": [
    "# 并行赋值，同时将数值1，2，3分别赋给不同的变量名。\n",
    "a, b, c = 1, 2, 3\n",
    "for i in [a,b,c]:\n",
    "    print(i)"
   ]
  },
  {
   "cell_type": "markdown",
   "metadata": {
    "pycharm": {
     "name": "#%% md\n"
    }
   },
   "source": [
    "从上面的三个例子中我们可以发现，变量名对应的变量值是可以变化的。即变量名指向的内存中的存储位置是可以变化的。\n",
    "<br>\n",
    "实际工作中对变量命名时**不能**简单地使用字母，而应当考虑到该变量的实际意义，写易读的代码。请注意：\n",
    "- 变量名中只能包括字母、数字和下划线。变量名可以以字母或下划线开头，不能以数字开头。\n",
    "- 变量名中不能包含空格，可以使用下划线对单词进行间隔，如asset_pricing。\n",
    "- 不要将Python关键字和函数名作为变量名。\n",
    "- 慎重使用小写字母l和大写字母O。"
   ]
  },
  {
   "cell_type": "markdown",
   "metadata": {},
   "source": [
    "GPT-3.5 also gives some insights on the topic,\n",
    "1. **Use descriptive names.** Choose names that accurately describe the purpose of the variable. A good variable name should be self-explanatory and give an idea of what the variable is used for. Say, instead of using \"a\" or \"x\", use more descriptive names like \"age\", \"salary\", or \"customer_name\".\n",
    "2. **Use lowercase letters.** In Python, variable names are conventionally written in lowercase letters. If you need to use multiple words in the variable name, you can separate them with underscores. For example, \"employee_name\" or \"total_sales\".\n",
    "3. **Avoid using reserved words.** Python has reserved words that have special meanings in the language, such as \"if\", \"for\", and \"while\". You should not use these words as variable names because it can cause conflicts and errors in your code.\n",
    "4. **Be consistent.** Try to be consistent in your naming conventions throughout your code. For example, if you use camel case (i.e., capitalizing the first letter of each word except the first) for function names, use underscores for variable names.\n",
    "5. **Use meaningful abbreviations.** If you need to use abbreviations in your variable names, make sure they are easily understandable and commonly used. For example, \"num\" for \"number\" or \"avg\" for \"average\".\n",
    "\n",
    "GPT-3.5 was asked to give more examples on meaningful abbreviations: \"temp\" for \"temperature\", \"max\" for \"maximum\", \"min\" for \"minimum\", \"avg\" for \"average\", \"len\" for \"length\", \"int\" for \"integer\", \"bool\" for \"boolean\", \"char\" for \"character\", \"calc\" for \"calculate\", \"cnt\" for \"count\", \"addr\" for \"address\"."
   ]
  },
  {
   "cell_type": "markdown",
   "metadata": {
    "pycharm": {
     "name": "#%% md\n"
    }
   },
   "source": [
    "## Python变量可以储存哪些类型的数据？\n",
    "前文中提到，Python将数据以编码的形式储存在内存中。Python为我们提供了一系列的标准数据类型。\n",
    "- Numbers 数字\n",
    "- String 字符串\n",
    "- List 列表\n",
    "- Tuple 元组\n",
    "- Dictionary 字典\n",
    "- Set 集合\n"
   ]
  },
  {
   "cell_type": "markdown",
   "metadata": {
    "pycharm": {
     "name": "#%% md\n"
    }
   },
   "source": [
    "### Numbers数字\n",
    "数字是不可变更的数据类型，数字数据的改变意味着新对象的分配。具体而言，Python支持四种不同的数字类型，分别是，\n",
    "- int 整型\n",
    "- float 浮点型\n",
    "- complex 复数\n",
    "\n",
    "或许在一些教科书中还会看到`long`长型这一数据类型，但这只用在`Python 2`中以代表unlimited size的整数。但从`Python 3`开始，其功能可以被`int`完全取代。"
   ]
  },
  {
   "cell_type": "code",
   "execution_count": 4,
   "metadata": {
    "ExecuteTime": {
     "end_time": "2022-07-10T08:23:39.858986Z",
     "start_time": "2022-07-10T08:23:39.846449Z"
    },
    "pycharm": {
     "name": "#%%\n"
    }
   },
   "outputs": [],
   "source": [
    "n_1 = 1\n",
    "n_2 = 1.5\n",
    "n_3 = 3.14j"
   ]
  },
  {
   "cell_type": "markdown",
   "metadata": {},
   "source": [
    "GPT-3.5 remind me that the one can perform arithmetic operations on numeric data types in `Python` using operators such as \"+\", \"-\", \"*\", \"/\", \"//\" (floor division), and \"%\" (modulo).\n"
   ]
  },
  {
   "cell_type": "code",
   "execution_count": 5,
   "metadata": {},
   "outputs": [],
   "source": [
    "# Arithmetic operations on integers\n",
    "a = 5 + 2   # Addition\n",
    "b = 5 - 2   # Subtraction\n",
    "c = 5 * 2   # Multiplication\n",
    "d = 5 / 2   # Division\n",
    "e = 5 // 2  # Floor division\n",
    "f = 5 % 2   # Modulo\n",
    "\n",
    "# Arithmetic operations on floats\n",
    "g = 3.14 + 2.5   # Addition\n",
    "h = 3.14 - 2.5   # Subtraction\n",
    "i = 3.14 * 2.5   # Multiplication\n",
    "j = 3.14 / 2.5   # Division\n",
    "k = 3.14 // 2.5  # Floor division\n",
    "l = 3.14 % 2.5   # Modulo\n",
    "\n",
    "# Arithmetic operations on complex numbers\n",
    "m = (2 + 3j) + (-1 - 2j)   # Addition\n",
    "n = (2 + 3j) - (-1 - 2j)   # Subtraction\n",
    "o = (2 + 3j) * (-1 - 2j)   # Multiplication\n",
    "p = (2 + 3j) / (-1 - 2j)   # Division"
   ]
  },
  {
   "cell_type": "markdown",
   "metadata": {
    "pycharm": {
     "name": "#%% md\n"
    }
   },
   "source": [
    "### String 字符串\n",
    "字符串是由数字、字母、下划线构成的一组字符。字符串可以由单引号、双引号、三引号包裹起来。"
   ]
  },
  {
   "cell_type": "code",
   "execution_count": 6,
   "metadata": {},
   "outputs": [],
   "source": [
    "a = \"Hello, World!\"   # Using double quotes\n",
    "b = 'This is a string'   # Using single quotes\n",
    "c = \"\"\"This is a\n",
    "multiline\n",
    "string\"\"\"   # Using triple quotes"
   ]
  },
  {
   "cell_type": "markdown",
   "metadata": {},
   "source": [
    "与数字一样，接下来我们将介绍字符串的性质和简单处理方式。\n",
    "- 使用`+`可以连接两个字符串\n",
    "- 字符串可以切片（slicing）以取出需要的内容\n",
    "- 字符串可以格式化输出\n",
    "- 使用`in`可以判断字符串中是否存在某些字符"
   ]
  },
  {
   "cell_type": "code",
   "execution_count": 7,
   "metadata": {},
   "outputs": [],
   "source": [
    "# Concatenating two strings\n",
    "a = \"Hello\"\n",
    "b = \"World\"\n",
    "c = a + \" \" + b"
   ]
  },
  {
   "cell_type": "code",
   "execution_count": 8,
   "metadata": {
    "ExecuteTime": {
     "end_time": "2022-07-10T08:23:43.852591Z",
     "start_time": "2022-07-10T08:23:43.845097Z"
    },
    "pycharm": {
     "name": "#%%\n"
    }
   },
   "outputs": [
    {
     "name": "stdout",
     "output_type": "stream",
     "text": [
      "helloworld!\n",
      "h\n",
      "hel\n",
      "elloworld!\n",
      "!\n"
     ]
    }
   ],
   "source": [
    "# Slicing a string\n",
    "s = 'helloworld!'\n",
    "print(s)\n",
    "print(s[0]) #取字符串s的第一个字符\n",
    "print(s[0:3]) #取字符串s的前三个字符\n",
    "print(s[1:]) #从第二个字符开始取全部的字符\n",
    "print(s[-1]) #取最后一个字符"
   ]
  },
  {
   "cell_type": "code",
   "execution_count": 9,
   "metadata": {},
   "outputs": [
    {
     "name": "stdout",
     "output_type": "stream",
     "text": [
      "My name is Alice and I am 30 years old\n"
     ]
    }
   ],
   "source": [
    "# Formatting a string\n",
    "name = \"Alice\"\n",
    "age = 30\n",
    "f = \"My name is {} and I am {} years old\".format(name, age)\n",
    "print(f)"
   ]
  },
  {
   "cell_type": "code",
   "execution_count": 10,
   "metadata": {},
   "outputs": [
    {
     "data": {
      "text/plain": [
       "True"
      ]
     },
     "execution_count": 10,
     "metadata": {},
     "output_type": "execute_result"
    }
   ],
   "source": [
    "# Searching for a substring\n",
    "g = \"Python is easy to learn\"\n",
    "h = \"easy\" in g\n",
    "h"
   ]
  },
  {
   "cell_type": "code",
   "execution_count": 11,
   "metadata": {
    "ExecuteTime": {
     "end_time": "2022-07-10T08:23:45.143293Z",
     "start_time": "2022-07-10T08:23:45.138564Z"
    },
    "pycharm": {
     "name": "#%%\n"
    }
   },
   "outputs": [
    {
     "name": "stdout",
     "output_type": "stream",
     "text": [
      "HELLOWORLD!\n",
      "helloworld!\n"
     ]
    }
   ],
   "source": [
    "print(s.upper()) #全部字符转为大写\n",
    "print(s.lower()) #全部字符转为小写"
   ]
  },
  {
   "cell_type": "markdown",
   "metadata": {},
   "source": [
    "GPT-3.5 reminds me that strings are immutable, which means that once a string is created, its contents cannot be changed. However, you can create a new string by manipulating the original string. Below is an example illustrate the situation."
   ]
  },
  {
   "cell_type": "code",
   "execution_count": 12,
   "metadata": {},
   "outputs": [
    {
     "ename": "TypeError",
     "evalue": "'str' object does not support item assignment",
     "output_type": "error",
     "traceback": [
      "\u001b[1;31m---------------------------------------------------------------------------\u001b[0m",
      "\u001b[1;31mTypeError\u001b[0m                                 Traceback (most recent call last)",
      "\u001b[1;32m~\\AppData\\Local\\Temp\\ipykernel_47864\\2266381981.py\u001b[0m in \u001b[0;36m<module>\u001b[1;34m\u001b[0m\n\u001b[0;32m      3\u001b[0m \u001b[1;33m\u001b[0m\u001b[0m\n\u001b[0;32m      4\u001b[0m \u001b[1;31m# Try to change a character in the string\u001b[0m\u001b[1;33m\u001b[0m\u001b[1;33m\u001b[0m\u001b[0m\n\u001b[1;32m----> 5\u001b[1;33m \u001b[0ms\u001b[0m\u001b[1;33m[\u001b[0m\u001b[1;36m0\u001b[0m\u001b[1;33m]\u001b[0m \u001b[1;33m=\u001b[0m \u001b[1;34m\"h\"\u001b[0m\u001b[1;33m\u001b[0m\u001b[0m\n\u001b[0m",
      "\u001b[1;31mTypeError\u001b[0m: 'str' object does not support item assignment"
     ]
    }
   ],
   "source": [
    "# Define a string variable\n",
    "s = \"Hello, World!\"\n",
    "\n",
    "# Try to change a character in the string\n",
    "s[0] = \"h\"\n"
   ]
  },
  {
   "cell_type": "markdown",
   "metadata": {},
   "source": [
    "This error occurs because you cannot modify a string once it is created. When you try to change a character in the string using the index notation, Python raises an error because strings are immutable.\n",
    "\n",
    "Instead, you can create a new string that contains the desired modifications. For example:"
   ]
  },
  {
   "cell_type": "code",
   "execution_count": 13,
   "metadata": {},
   "outputs": [
    {
     "name": "stdout",
     "output_type": "stream",
     "text": [
      "hello, World!\n"
     ]
    }
   ],
   "source": [
    "# Define a string variable\n",
    "s = \"Hello, World!\"\n",
    "\n",
    "# Create a new string with the desired modifications\n",
    "s = \"hello\" + s[5:]\n",
    "\n",
    "# Output the new string\n",
    "print(s)"
   ]
  },
  {
   "cell_type": "markdown",
   "metadata": {
    "pycharm": {
     "name": "#%% md\n"
    }
   },
   "source": [
    "### List 列表"
   ]
  },
  {
   "cell_type": "markdown",
   "metadata": {
    "pycharm": {
     "name": "#%% md\n"
    }
   },
   "source": [
    "列表是一种长度和内容可变的序列，其中的每一个元素都有一个索引参数。可以很方便地做切片、加、减等运算。\n",
    "\n",
    "Lists are ordered, changeable, and allow duplicate values. They are enclosed within square brackets `[]` and can contain elements of any data type, including numbers, strings, and other lists."
   ]
  },
  {
   "cell_type": "code",
   "execution_count": 14,
   "metadata": {
    "ExecuteTime": {
     "end_time": "2022-07-10T08:23:47.753637Z",
     "start_time": "2022-07-10T08:23:47.732014Z"
    },
    "pycharm": {
     "name": "#%%\n"
    }
   },
   "outputs": [
    {
     "data": {
      "text/plain": [
       "[2, 3]"
      ]
     },
     "execution_count": 14,
     "metadata": {},
     "output_type": "execute_result"
    }
   ],
   "source": [
    "lst = [1, 2, 3, 4, 5] #创建列表\n",
    "lst[1] #使用索引访问列表\n",
    "lst[1:3] #对列表做切片"
   ]
  },
  {
   "cell_type": "code",
   "execution_count": 15,
   "metadata": {
    "ExecuteTime": {
     "end_time": "2022-07-10T08:23:48.874263Z",
     "start_time": "2022-07-10T08:23:48.862092Z"
    },
    "pycharm": {
     "name": "#%%\n"
    }
   },
   "outputs": [
    {
     "name": "stdout",
     "output_type": "stream",
     "text": [
      "[1, 2, 3, 4, 5]\n",
      "[1, 2, 3, 4, 5, 6]\n",
      "[2, 3, 4, 5, 6]\n",
      "[3, 4, 5, 6]\n"
     ]
    }
   ],
   "source": [
    "print(lst)\n",
    "lst.append(6) #向列表中增加元素\n",
    "print(lst)\n",
    "del lst[0] #删除里欸包中指定位置的元素\n",
    "print(lst)\n",
    "lst.remove(2)\n",
    "print(lst)"
   ]
  },
  {
   "cell_type": "markdown",
   "metadata": {
    "pycharm": {
     "name": "#%% md\n"
    }
   },
   "source": [
    "Python提供了大量的函数和方法对列表对象进行处理。"
   ]
  },
  {
   "cell_type": "code",
   "execution_count": 16,
   "metadata": {
    "ExecuteTime": {
     "end_time": "2022-07-10T08:23:51.448723Z",
     "start_time": "2022-07-10T08:23:51.443683Z"
    },
    "pycharm": {
     "name": "#%%\n"
    }
   },
   "outputs": [
    {
     "data": {
      "text/plain": [
       "3"
      ]
     },
     "execution_count": 16,
     "metadata": {},
     "output_type": "execute_result"
    }
   ],
   "source": [
    "len(lst) #列表元素的个数\n",
    "max(lst) #列表元素中的最大值\n",
    "min(lst) #列表元素中的最小值"
   ]
  },
  {
   "cell_type": "code",
   "execution_count": 17,
   "metadata": {
    "ExecuteTime": {
     "end_time": "2022-07-10T08:23:52.537348Z",
     "start_time": "2022-07-10T08:23:52.528363Z"
    },
    "pycharm": {
     "name": "#%%\n"
    }
   },
   "outputs": [
    {
     "ename": "ValueError",
     "evalue": "2 is not in list",
     "output_type": "error",
     "traceback": [
      "\u001b[1;31m---------------------------------------------------------------------------\u001b[0m",
      "\u001b[1;31mValueError\u001b[0m                                Traceback (most recent call last)",
      "\u001b[1;32m~\\AppData\\Local\\Temp\\ipykernel_47864\\1539034480.py\u001b[0m in \u001b[0;36m<module>\u001b[1;34m\u001b[0m\n\u001b[0;32m      1\u001b[0m \u001b[0mlst\u001b[0m\u001b[1;33m.\u001b[0m\u001b[0mcount\u001b[0m\u001b[1;33m(\u001b[0m\u001b[1;36m2\u001b[0m\u001b[1;33m)\u001b[0m \u001b[1;31m#计算列表lst中元素2出现的次数\u001b[0m\u001b[1;33m\u001b[0m\u001b[0m\n\u001b[1;32m----> 2\u001b[1;33m \u001b[0mlst\u001b[0m\u001b[1;33m.\u001b[0m\u001b[0mindex\u001b[0m\u001b[1;33m(\u001b[0m\u001b[1;36m2\u001b[0m\u001b[1;33m)\u001b[0m \u001b[1;31m#计算列表lst中元素2首次出现的位置\u001b[0m\u001b[1;33m\u001b[0m\u001b[0m\n\u001b[0m\u001b[0;32m      3\u001b[0m \u001b[0mlst\u001b[0m\u001b[1;33m.\u001b[0m\u001b[0mreverse\u001b[0m\u001b[1;33m(\u001b[0m\u001b[1;33m)\u001b[0m \u001b[1;31m#反向排列列表中的元素\u001b[0m\u001b[1;33m\u001b[0m\u001b[0m\n",
      "\u001b[1;31mValueError\u001b[0m: 2 is not in list"
     ]
    }
   ],
   "source": [
    "lst.count(2) #计算列表lst中元素2出现的次数\n",
    "lst.index(2) #计算列表lst中元素2首次出现的位置\n",
    "lst.reverse() #反向排列列表中的元素"
   ]
  },
  {
   "cell_type": "markdown",
   "metadata": {
    "pycharm": {
     "name": "#%% md\n"
    }
   },
   "source": [
    "Python提供了很多有用的序列函数。"
   ]
  },
  {
   "cell_type": "code",
   "execution_count": 18,
   "metadata": {
    "ExecuteTime": {
     "end_time": "2022-07-10T08:23:54.955650Z",
     "start_time": "2022-07-10T08:23:54.943436Z"
    },
    "pycharm": {
     "name": "#%%\n"
    }
   },
   "outputs": [
    {
     "name": "stdout",
     "output_type": "stream",
     "text": [
      "[3, 4, 5, 6]\n",
      "0\n",
      "3\n",
      "---------\n",
      "1\n",
      "4\n",
      "---------\n",
      "2\n",
      "5\n",
      "---------\n",
      "3\n",
      "6\n",
      "---------\n"
     ]
    }
   ],
   "source": [
    "# enumerat可以返回（i，value）元组序列, 当我们的循环不仅需要使用元素，还需要使用元素的位置时，这样的操作特别实用。\n",
    "print(lst)\n",
    "for i, value in enumerate(lst):\n",
    "    print(i)\n",
    "    print(value)\n",
    "    print('---------')"
   ]
  },
  {
   "cell_type": "code",
   "execution_count": 19,
   "metadata": {
    "ExecuteTime": {
     "end_time": "2022-07-10T08:23:57.929809Z",
     "start_time": "2022-07-10T08:23:57.919298Z"
    },
    "pycharm": {
     "name": "#%%\n"
    }
   },
   "outputs": [
    {
     "data": {
      "text/plain": [
       "[1, 2, 3, 4, 7, 8, 9]"
      ]
     },
     "execution_count": 19,
     "metadata": {},
     "output_type": "execute_result"
    }
   ],
   "source": [
    "# sorted函数可以从任意的元素列表返回一个新的排好序的列表\n",
    "sorted([7,8,9,1,3,2,4])"
   ]
  },
  {
   "cell_type": "code",
   "execution_count": 20,
   "metadata": {
    "ExecuteTime": {
     "end_time": "2022-07-10T08:23:58.812011Z",
     "start_time": "2022-07-10T08:23:58.800011Z"
    },
    "pycharm": {
     "name": "#%%\n"
    }
   },
   "outputs": [
    {
     "name": "stdout",
     "output_type": "stream",
     "text": [
      "0:foo,one\n",
      "1:bar,two\n",
      "2:baz,three\n"
     ]
    }
   ],
   "source": [
    "# zip函数为多个列表同时循环系统了方便的写法\n",
    "seq1 = ['foo','bar','baz']\n",
    "seq2 = ['one','two','three']\n",
    "for i, (a,b) in enumerate(zip(seq1,seq2)):\n",
    "    print('{0}:{1},{2}'.format(i,a,b))"
   ]
  },
  {
   "cell_type": "markdown",
   "metadata": {
    "pycharm": {
     "name": "#%% md\n"
    }
   },
   "source": [
    "### Tuple 元组\n",
    "元组是一个固定长度，不可改变的Python序列对象。"
   ]
  },
  {
   "cell_type": "code",
   "execution_count": 21,
   "metadata": {
    "ExecuteTime": {
     "end_time": "2022-07-10T08:24:00.067968Z",
     "start_time": "2022-07-10T08:24:00.055467Z"
    },
    "pycharm": {
     "name": "#%%\n"
    }
   },
   "outputs": [],
   "source": [
    "t = (1,2,3,4,5) #构建元组\n",
    "t[0] #访问元组指定位置的元素\n",
    "tup = tuple(['foo',[1,2],True]) #利用tuple()将任意序列或迭代器转换成元组"
   ]
  },
  {
   "cell_type": "markdown",
   "metadata": {
    "pycharm": {
     "name": "#%% md\n"
    }
   },
   "source": [
    "元组中储存的对象可能是可变对象。元组一旦被创建，元组中的对象就不能被更改了；但若元组中的某个对象是可变的，可以在原位置进行修改。"
   ]
  },
  {
   "cell_type": "code",
   "execution_count": 22,
   "metadata": {
    "ExecuteTime": {
     "end_time": "2022-07-10T08:24:01.529674Z",
     "start_time": "2022-07-10T08:24:01.524075Z"
    },
    "pycharm": {
     "name": "#%%\n"
    }
   },
   "outputs": [
    {
     "name": "stdout",
     "output_type": "stream",
     "text": [
      "('foo', [1, 2], True)\n",
      "('foo', [1, 2, 3], True)\n"
     ]
    }
   ],
   "source": [
    "print(tup)\n",
    "tup[1].append(3)\n",
    "print(tup)"
   ]
  },
  {
   "cell_type": "markdown",
   "metadata": {
    "pycharm": {
     "name": "#%% md\n"
    }
   },
   "source": [
    "元组可以使用数学运算符链接，效果类似于string。"
   ]
  },
  {
   "cell_type": "code",
   "execution_count": 23,
   "metadata": {
    "ExecuteTime": {
     "end_time": "2022-07-10T08:24:03.599422Z",
     "start_time": "2022-07-10T08:24:03.593423Z"
    },
    "pycharm": {
     "name": "#%%\n"
    }
   },
   "outputs": [
    {
     "data": {
      "text/plain": [
       "(4, None, 'foo', 6, 0, 'bar')"
      ]
     },
     "execution_count": 23,
     "metadata": {},
     "output_type": "execute_result"
    }
   ],
   "source": [
    "(4,None,'foo') + (6,0) + ('bar',)"
   ]
  },
  {
   "cell_type": "code",
   "execution_count": 24,
   "metadata": {
    "ExecuteTime": {
     "end_time": "2022-07-10T08:24:04.509096Z",
     "start_time": "2022-07-10T08:24:04.491097Z"
    },
    "pycharm": {
     "name": "#%%\n"
    }
   },
   "outputs": [
    {
     "data": {
      "text/plain": [
       "(4, None, 'foo', 4, None, 'foo', 4, None, 'foo', 4, None, 'foo')"
      ]
     },
     "execution_count": 24,
     "metadata": {},
     "output_type": "execute_result"
    }
   ],
   "source": [
    "(4,None,'foo') * 4"
   ]
  },
  {
   "cell_type": "markdown",
   "metadata": {
    "pycharm": {
     "name": "#%% md\n"
    }
   },
   "source": [
    "元组也可以被拆分，分别赋给类似元组的变量。"
   ]
  },
  {
   "cell_type": "code",
   "execution_count": 25,
   "metadata": {
    "ExecuteTime": {
     "end_time": "2022-07-10T08:24:06.948083Z",
     "start_time": "2022-07-10T08:24:06.940084Z"
    },
    "pycharm": {
     "name": "#%%\n"
    }
   },
   "outputs": [
    {
     "name": "stdout",
     "output_type": "stream",
     "text": [
      "4 5 6 7\n"
     ]
    }
   ],
   "source": [
    "tup = 4, 5, (6,7)\n",
    "a, b, (c, d) = tup\n",
    "print(a,b,c,d)"
   ]
  },
  {
   "cell_type": "markdown",
   "metadata": {
    "pycharm": {
     "name": "#%% md\n"
    }
   },
   "source": [
    "### Dictionary 字典"
   ]
  },
  {
   "cell_type": "markdown",
   "metadata": {
    "pycharm": {
     "name": "#%% md\n"
    }
   },
   "source": [
    "字典是一种可变容器模型，可以储存任意类型的对象。"
   ]
  },
  {
   "cell_type": "code",
   "execution_count": 26,
   "metadata": {
    "ExecuteTime": {
     "end_time": "2022-07-10T08:24:09.878588Z",
     "start_time": "2022-07-10T08:24:09.861267Z"
    },
    "pycharm": {
     "name": "#%%\n"
    }
   },
   "outputs": [],
   "source": [
    "d = {'a':1, 'b':2, 'c':3} #创建字典\n",
    "d['b'] #使用键访问字典中的值\n",
    "d['a'] = 4 #字典的更新\n",
    "d['d'] = 5 #字典元素的增加"
   ]
  },
  {
   "cell_type": "markdown",
   "metadata": {
    "pycharm": {
     "name": "#%% md\n"
    }
   },
   "source": [
    "注意，字典中的键必须是唯一的，若为同一个键赋多个值，最后一个值会被记住。同时，键不可变，所以必须使用数字、字符串或元组充当，不可使用列表。<br>\n",
    "同时，字典也提供了大量的函数和方法。"
   ]
  },
  {
   "cell_type": "code",
   "execution_count": 27,
   "metadata": {
    "ExecuteTime": {
     "end_time": "2022-07-10T08:24:11.400419Z",
     "start_time": "2022-07-10T08:24:11.394223Z"
    },
    "pycharm": {
     "name": "#%%\n"
    }
   },
   "outputs": [
    {
     "data": {
      "text/plain": [
       "dict_values([4, 2, 3, 5])"
      ]
     },
     "execution_count": 27,
     "metadata": {},
     "output_type": "execute_result"
    }
   ],
   "source": [
    "len(d) # 计算字典中元素的的个数\n",
    "#d.clear() #删除字典中所有的元素\n",
    "d.items() #以列表返回可遍历的（键，值）元组对\n",
    "d.keys() #返回字典中全部的键\n",
    "d.values() #返回字典中全部的值"
   ]
  },
  {
   "cell_type": "markdown",
   "metadata": {},
   "source": [
    "### Set 集合"
   ]
  },
  {
   "cell_type": "markdown",
   "metadata": {},
   "source": [
    "In Python, a set is a built-in data type that represents an unordered collection of unique elements. Sets are defined using curly braces `{}`, or by calling the built-in `set()` function."
   ]
  },
  {
   "cell_type": "code",
   "execution_count": 28,
   "metadata": {},
   "outputs": [],
   "source": [
    "# Creating a set\n",
    "my_set = {1, 2, 3}\n",
    "my_set2 = set([1, 2, 3, 3, 3])  # This will remove duplicates from the list\n",
    "\n",
    "# Creating an empty set\n",
    "empty_set = set()"
   ]
  },
  {
   "cell_type": "markdown",
   "metadata": {},
   "source": [
    "One can perform various operations on sets, such as adding or removing elements, checking if an element is in the set, and performing set operations such as union, intersection, and difference. Here are some examples:"
   ]
  },
  {
   "cell_type": "code",
   "execution_count": 29,
   "metadata": {},
   "outputs": [
    {
     "name": "stdout",
     "output_type": "stream",
     "text": [
      "True\n",
      "False\n"
     ]
    }
   ],
   "source": [
    "# Adding and removing elements from a set\n",
    "my_set = {1, 2, 3}\n",
    "my_set.add(4) \n",
    "my_set.remove(2)\n",
    "\n",
    "# Checking if an element is in a set\n",
    "my_set = {1, 2, 3}\n",
    "print(2 in my_set) \n",
    "print(4 in my_set)\n",
    "\n",
    "# Performing set operations\n",
    "set1 = {1, 2, 3}\n",
    "set2 = {2, 3, 4}\n",
    "union = set1.union(set2)\n",
    "intersection = set1.intersection(set2) \n",
    "difference = set1.difference(set2)"
   ]
  },
  {
   "cell_type": "markdown",
   "metadata": {
    "pycharm": {
     "name": "#%% md\n"
    }
   },
   "source": [
    "## Python中如何进行条件判断？"
   ]
  },
  {
   "cell_type": "markdown",
   "metadata": {
    "pycharm": {
     "name": "#%% md\n"
    }
   },
   "source": [
    "在使用程序处理现实任务的过程中，我们尝尝需要让计算机按照某一标准自主做出判断，并根据一定的规则执行。<br>\n",
    "这一需求在Python中非常容易实现，见下例。"
   ]
  },
  {
   "cell_type": "code",
   "execution_count": 30,
   "metadata": {
    "ExecuteTime": {
     "end_time": "2022-07-10T08:24:13.591281Z",
     "start_time": "2022-07-10T08:24:13.577847Z"
    },
    "pycharm": {
     "name": "#%%\n"
    }
   },
   "outputs": [
    {
     "name": "stdout",
     "output_type": "stream",
     "text": [
      "middle\n"
     ]
    }
   ],
   "source": [
    "a = 43\n",
    "if a <= 33:\n",
    "    print('small')\n",
    "elif a <= 66:\n",
    "    print('middle')\n",
    "else:\n",
    "    print('large')"
   ]
  },
  {
   "cell_type": "markdown",
   "metadata": {
    "pycharm": {
     "name": "#%% md\n"
    }
   },
   "source": [
    "在编写条件判断时，我们要注意清晰的逻辑表达，对if语句不太熟悉的话可以通过绘制流程图来解决。<br>\n",
    "在金融资产定价中，我们经常会遇到Bivariate portfolio sorts的问题，此时我们就需要通过写多条件判断来解决。"
   ]
  },
  {
   "cell_type": "code",
   "execution_count": 31,
   "metadata": {
    "ExecuteTime": {
     "end_time": "2022-07-10T08:24:15.838847Z",
     "start_time": "2022-07-10T08:24:15.832481Z"
    },
    "pycharm": {
     "name": "#%%\n"
    }
   },
   "outputs": [],
   "source": [
    "size = 21\n",
    "btm = 48\n",
    "\n",
    "if (size <= 33) and (btm <= 33):\n",
    "    g = (1,1)\n",
    "elif (size <= 33) and (btm <= 66):\n",
    "    g = (1,2)\n",
    "elif size <= 33:\n",
    "    g = (1,3)\n",
    "elif (size <= 66) and (btm <= 33):\n",
    "    g = (2,1)\n",
    "elif (size <= 66) and (btm <= 66):\n",
    "    g = (2,2)\n",
    "elif (size <= 66):\n",
    "    g = (2,3)\n",
    "elif btm <= 33:\n",
    "    g = (3,1)\n",
    "elif btm <= 66:\n",
    "    g = (3,2)\n",
    "else:\n",
    "    g = (3,3)"
   ]
  },
  {
   "cell_type": "markdown",
   "metadata": {
    "pycharm": {
     "name": "#%% md\n"
    }
   },
   "source": [
    "## Python中各种各样的“循环”到底是怎么回事？"
   ]
  },
  {
   "cell_type": "markdown",
   "metadata": {
    "pycharm": {
     "name": "#%% md\n"
    }
   },
   "source": [
    "调用程序时，一个绕不开的问题就是循环。循环不仅使我们编程的工作量大大降低，也使我们的程序可以处理更丰富的情况。<br>\n",
    "Python中常见的循环有如下几种，<br>\n",
    "- for循环\n",
    "- while循环"
   ]
  },
  {
   "cell_type": "markdown",
   "metadata": {
    "pycharm": {
     "name": "#%% md\n"
    }
   },
   "source": [
    "### For循环"
   ]
  },
  {
   "cell_type": "markdown",
   "metadata": {
    "pycharm": {
     "name": "#%% md\n"
    }
   },
   "source": [
    "For循环可以遍历任何序列的项目，如列表和字符串。"
   ]
  },
  {
   "cell_type": "code",
   "execution_count": 32,
   "metadata": {
    "ExecuteTime": {
     "end_time": "2022-07-10T08:24:20.655516Z",
     "start_time": "2022-07-10T08:24:20.643189Z"
    },
    "pycharm": {
     "name": "#%%\n"
    }
   },
   "outputs": [
    {
     "name": "stdout",
     "output_type": "stream",
     "text": [
      "l\n",
      "o\n",
      "v\n",
      "e\n"
     ]
    }
   ],
   "source": [
    "s = 'love'\n",
    "for i in s:\n",
    "    print(i)"
   ]
  },
  {
   "cell_type": "code",
   "execution_count": 33,
   "metadata": {
    "ExecuteTime": {
     "end_time": "2022-07-10T08:24:26.137646Z",
     "start_time": "2022-07-10T08:24:26.133360Z"
    },
    "pycharm": {
     "name": "#%%\n"
    }
   },
   "outputs": [
    {
     "name": "stdout",
     "output_type": "stream",
     "text": [
      "l\n",
      "o\n",
      "v\n",
      "e\n"
     ]
    }
   ],
   "source": [
    "l = ['l','o','v','e']\n",
    "for i in l:\n",
    "    print(i)"
   ]
  },
  {
   "cell_type": "markdown",
   "metadata": {
    "pycharm": {
     "name": "#%% md\n"
    }
   },
   "source": [
    "for循环也可以通过索引进行，见下例。"
   ]
  },
  {
   "cell_type": "code",
   "execution_count": 34,
   "metadata": {
    "ExecuteTime": {
     "end_time": "2022-07-10T08:24:27.718927Z",
     "start_time": "2022-07-10T08:24:27.704420Z"
    },
    "pycharm": {
     "name": "#%%\n"
    }
   },
   "outputs": [
    {
     "name": "stdout",
     "output_type": "stream",
     "text": [
      "The 1th fruit is apple\n",
      "The 2th fruit is banana\n",
      "The 3th fruit is orange\n",
      "The 4th fruit is pineapple\n"
     ]
    }
   ],
   "source": [
    "fruits = ['apple','banana','orange','pineapple']\n",
    "\n",
    "for i in range(len(fruits)):\n",
    "    print('The {0}th fruit is {1}'.format(i+1,fruits[i]))"
   ]
  },
  {
   "cell_type": "markdown",
   "metadata": {
    "pycharm": {
     "name": "#%% md\n"
    }
   },
   "source": [
    "亦可见1.2.3List列表一节中给出的enumerate()函数的用例。"
   ]
  },
  {
   "cell_type": "markdown",
   "metadata": {
    "pycharm": {
     "name": "#%% md\n"
    }
   },
   "source": [
    "### While循环"
   ]
  },
  {
   "cell_type": "markdown",
   "metadata": {
    "pycharm": {
     "name": "#%% md\n"
    }
   },
   "source": [
    "与For循环不同，while循环可以无限进行下去（只要while后面的bool值始终为真）。"
   ]
  },
  {
   "cell_type": "code",
   "execution_count": 35,
   "metadata": {
    "ExecuteTime": {
     "end_time": "2022-07-10T08:24:31.837715Z",
     "start_time": "2022-07-10T08:24:31.834144Z"
    },
    "pycharm": {
     "name": "#%%\n"
    }
   },
   "outputs": [
    {
     "name": "stdout",
     "output_type": "stream",
     "text": [
      "The count is 0\n",
      "The count is 1\n",
      "The count is 2\n",
      "The count is 3\n",
      "The count is 4\n",
      "The count is 5\n",
      "The count is 6\n",
      "The count is 7\n",
      "The count is 8\n",
      "The count is greater than 9.\n"
     ]
    }
   ],
   "source": [
    "count = 0\n",
    "while count < 9 :\n",
    "    print ('The count is {0}'.format(count))\n",
    "    count +=1\n",
    "else:\n",
    "    print('The count is greater than 9.')"
   ]
  },
  {
   "cell_type": "markdown",
   "metadata": {
    "pycharm": {
     "name": "#%% md\n"
    }
   },
   "source": [
    "### 循环控制语句"
   ]
  },
  {
   "cell_type": "markdown",
   "metadata": {
    "pycharm": {
     "name": "#%% md\n"
    }
   },
   "source": [
    "#### Break语句"
   ]
  },
  {
   "cell_type": "markdown",
   "metadata": {
    "pycharm": {
     "name": "#%% md\n"
    }
   },
   "source": [
    "Break语句用来终止循环语句，即使循环条件不是false或序列没有完全被递归完，这一语句也会使循环语句中止执行。"
   ]
  },
  {
   "cell_type": "code",
   "execution_count": 36,
   "metadata": {
    "ExecuteTime": {
     "end_time": "2022-07-10T08:24:34.109016Z",
     "start_time": "2022-07-10T08:24:34.096721Z"
    },
    "pycharm": {
     "name": "#%%\n"
    }
   },
   "outputs": [
    {
     "name": "stdout",
     "output_type": "stream",
     "text": [
      "i\n",
      "l\n",
      "o\n",
      "v\n",
      "e\n"
     ]
    }
   ],
   "source": [
    "for i in 'ilovepython':\n",
    "    if i == 'p':\n",
    "        break\n",
    "    print(i)"
   ]
  },
  {
   "cell_type": "code",
   "execution_count": 37,
   "metadata": {
    "ExecuteTime": {
     "end_time": "2022-07-10T08:24:36.645229Z",
     "start_time": "2022-07-10T08:24:36.632666Z"
    },
    "pycharm": {
     "name": "#%%\n"
    }
   },
   "outputs": [
    {
     "name": "stdout",
     "output_type": "stream",
     "text": [
      "当前变量为：10\n",
      "当前变量为：11\n",
      "当前变量为：12\n",
      "当前变量为：13\n",
      "当前变量为：14\n",
      "当前变量为：15\n"
     ]
    }
   ],
   "source": [
    "var = 10\n",
    "\n",
    "while var > 0:\n",
    "    print('当前变量为：{0}'.format(var))\n",
    "    var += 1\n",
    "    if var == 16:\n",
    "        break"
   ]
  },
  {
   "cell_type": "markdown",
   "metadata": {
    "pycharm": {
     "name": "#%% md\n"
    }
   },
   "source": [
    "注意break语句的位置对输出结果的影响。"
   ]
  },
  {
   "cell_type": "markdown",
   "metadata": {
    "pycharm": {
     "name": "#%% md\n"
    }
   },
   "source": [
    "#### continue语句"
   ]
  },
  {
   "cell_type": "markdown",
   "metadata": {
    "pycharm": {
     "name": "#%% md\n"
    }
   },
   "source": [
    "contunue语句跳出本次循环，即略过本次循环尚未执行的语句进入下一次循环。"
   ]
  },
  {
   "cell_type": "code",
   "execution_count": 38,
   "metadata": {
    "ExecuteTime": {
     "end_time": "2022-07-10T08:24:40.359584Z",
     "start_time": "2022-07-10T08:24:40.342603Z"
    },
    "pycharm": {
     "name": "#%%\n"
    }
   },
   "outputs": [
    {
     "name": "stdout",
     "output_type": "stream",
     "text": [
      "i\n",
      "l\n",
      "o\n",
      "v\n",
      "e\n",
      "y\n",
      "t\n",
      "h\n",
      "o\n",
      "n\n"
     ]
    }
   ],
   "source": [
    "for i in 'ilovepython':\n",
    "    if i == 'p':\n",
    "        continue\n",
    "    print(i)"
   ]
  },
  {
   "cell_type": "code",
   "execution_count": 39,
   "metadata": {
    "ExecuteTime": {
     "end_time": "2022-07-10T08:24:41.214192Z",
     "start_time": "2022-07-10T08:24:41.199680Z"
    },
    "pycharm": {
     "name": "#%%\n"
    }
   },
   "outputs": [
    {
     "name": "stdout",
     "output_type": "stream",
     "text": [
      "当前变量为：10\n",
      "当前变量为：11\n",
      "当前变量为：12\n",
      "当前变量为：13\n",
      "当前变量为：14\n",
      "当前变量为：15\n"
     ]
    }
   ],
   "source": [
    "var = 10\n",
    "\n",
    "while var < 16:\n",
    "    print('当前变量为：{0}'.format(var))\n",
    "    var += 1\n",
    "    if var == 13:\n",
    "        continue"
   ]
  },
  {
   "cell_type": "markdown",
   "metadata": {
    "pycharm": {
     "name": "#%% md\n"
    }
   },
   "source": [
    "#### pass语句"
   ]
  },
  {
   "cell_type": "markdown",
   "metadata": {
    "pycharm": {
     "name": "#%% md\n"
    }
   },
   "source": [
    "pass是一个占位符，在循环中不发挥任何作用。若我们定义函数时尚未想好函数内容些什么，可以使用pass语句。"
   ]
  },
  {
   "cell_type": "code",
   "execution_count": 40,
   "metadata": {
    "ExecuteTime": {
     "end_time": "2022-07-10T08:24:43.970953Z",
     "start_time": "2022-07-10T08:24:43.959915Z"
    },
    "pycharm": {
     "name": "#%%\n"
    }
   },
   "outputs": [],
   "source": [
    "def study():\n",
    "    pass"
   ]
  },
  {
   "cell_type": "code",
   "execution_count": 41,
   "metadata": {
    "ExecuteTime": {
     "end_time": "2022-07-10T08:24:50.757264Z",
     "start_time": "2022-07-10T08:24:50.746780Z"
    },
    "pycharm": {
     "name": "#%%\n"
    }
   },
   "outputs": [
    {
     "name": "stdout",
     "output_type": "stream",
     "text": [
      "i\n",
      "l\n",
      "o\n",
      "v\n",
      "e\n",
      "p\n",
      "y\n",
      "t\n",
      "h\n",
      "o\n",
      "n\n"
     ]
    }
   ],
   "source": [
    "for i in 'ilovepython':\n",
    "    if i == 'p':\n",
    "        pass\n",
    "    print(i)"
   ]
  },
  {
   "cell_type": "code",
   "execution_count": 42,
   "metadata": {
    "ExecuteTime": {
     "end_time": "2022-07-10T08:24:52.422485Z",
     "start_time": "2022-07-10T08:24:52.407001Z"
    },
    "pycharm": {
     "name": "#%%\n"
    }
   },
   "outputs": [
    {
     "name": "stdout",
     "output_type": "stream",
     "text": [
      "当前变量为：10\n",
      "当前变量为：11\n",
      "当前变量为：12\n",
      "当前变量为：13\n",
      "当前变量为：14\n",
      "当前变量为：15\n"
     ]
    }
   ],
   "source": [
    "var = 10\n",
    "\n",
    "while var < 16:\n",
    "    print('当前变量为：{0}'.format(var))\n",
    "    var += 1\n",
    "    if var == 13:\n",
    "        continue"
   ]
  },
  {
   "cell_type": "markdown",
   "metadata": {},
   "source": [
    "This can be useful when you are working on a larger project and need to define the overall structure before filling in the details."
   ]
  },
  {
   "cell_type": "markdown",
   "metadata": {},
   "source": [
    "#### With 语句"
   ]
  },
  {
   "cell_type": "markdown",
   "metadata": {},
   "source": [
    "`with` is a keyword in Python that is used to manage resources and ensure that they are properly released when they are no longer needed. It is typically used when working with files, network connections, or other resources that need to be explicitly opened and closed.\n",
    "\n",
    "Here's an example of using with to work with a file:"
   ]
  },
  {
   "cell_type": "code",
   "execution_count": 43,
   "metadata": {},
   "outputs": [],
   "source": [
    "with open('../data/example_file.txt', 'r', encoding = 'utf-8') as f:\n",
    "    data = f.read()"
   ]
  },
  {
   "cell_type": "markdown",
   "metadata": {},
   "source": [
    "In this example, the `with` statement is used to open the file 'example_file.txt' in read mode ('r'). The `open()` function returns a file object that is assigned to the variable f. The block of code inside the `with` statement reads the contents of the file using the `read()` method of the file object, and then performs some operation on the data.\n",
    "\n",
    "When the block of code inside the `with` statement completes, the file object is automatically closed, even if an exception is raised or the program exits prematurely. This ensures that the file is properly released and that any resources associated with it are freed.\n",
    "\n",
    "You can also use `with` to work with other resources that need to be explicitly managed, such as network sockets or database connections. The basic syntax is the same: use `with` to create a context in which the resource is available, and then let Python handle the details of releasing the resource when the context is exited."
   ]
  }
 ],
 "metadata": {
  "kernelspec": {
   "display_name": "Python 3 (ipykernel)",
   "language": "python",
   "name": "python3"
  },
  "language_info": {
   "codemirror_mode": {
    "name": "ipython",
    "version": 3
   },
   "file_extension": ".py",
   "mimetype": "text/x-python",
   "name": "python",
   "nbconvert_exporter": "python",
   "pygments_lexer": "ipython3",
   "version": "3.7.0"
  },
  "toc": {
   "base_numbering": 1,
   "nav_menu": {},
   "number_sections": true,
   "sideBar": true,
   "skip_h1_title": false,
   "title_cell": "Table of Contents",
   "title_sidebar": "Contents",
   "toc_cell": false,
   "toc_position": {},
   "toc_section_display": true,
   "toc_window_display": true
  }
 },
 "nbformat": 4,
 "nbformat_minor": 2
}
